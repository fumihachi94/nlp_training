{
 "cells": [
  {
   "cell_type": "markdown",
   "metadata": {},
   "source": [
    "# 最小二乗法\n",
    "\n",
    "- 入力（理論値）：本例題では以下の関数を最小二乗法を用いて近似する\n",
    "$$ y = \\frac{sin(\\pi x)}{\\pi x}+\\frac{x}{10}$$\n",
    "\n",
    "- 基底関数：\n",
    "$$\\phi(x) = (1, sin(\\frac{x}{2}), con(\\frac{x}{2}), sin(\\frac{2x}{2}), cos(\\frac{2x}{2}), ・・・, sin(\\frac{15x}{2}),cos(\\frac{15x}{2}))^T$$\n",
    "\n",
    "- 計画関数：\n",
    "$$\\Phi = \\left(\n",
    "\\begin{array}{ccc} \n",
    "    \\phi_1(x_1) & \\vdots & \\phi_b(x_1) \\\\ \n",
    "    \\vdots      & \\ddots & \\vdots      \\\\ \n",
    "    \\phi_1(x_n) & \\vdots & \\phi_b(x_n) \n",
    "\\end{array}\\right)$$"
   ]
  },
  {
   "cell_type": "markdown",
   "metadata": {},
   "source": [
    "最小二乗誤差を最小にするようなパラメータ$\\theta$を決定する。  \n",
    "- 訓練二乗誤差:\n",
    "$$ J_{LS}(\\theta) = \\frac{1}{2}\\begin{Vmatrix}\\Phi\\theta-y\\end{Vmatrix}$$\n",
    "\n",
    "$J_{LS}$の偏微分値が0となるような$\\theta$を求めれば良い\n",
    "$$ \\nabla_\\theta J_{LS} = \\left( \\frac{\\partial J_{LS}}{\\partial\\theta_1}, \\dots, \\frac{\\partial J_{LS}}{\\partial\\theta_b}\\right)^T = \\Phi^T(\\Phi\\theta-y) = 0$$\n",
    "なので、求めるべきパラメータ$\\hat{\\theta}_{LS}$は以下のようになる。ここで、$\\Phi^\\dagger$は計画行列$\\Phi$の一般逆行列である。\n",
    "$$ \\hat{\\theta}_{LS} = \\Phi^\\dagger y$$"
   ]
  },
  {
   "cell_type": "code",
   "execution_count": 2,
   "metadata": {},
   "outputs": [],
   "source": [
    "import matplotlib.pyplot as plt\n",
    "import numpy as np"
   ]
  },
  {
   "cell_type": "code",
   "execution_count": 115,
   "metadata": {},
   "outputs": [
    {
     "data": {
      "image/png": "[encoded data removed]",
      "text/plain": [
       "<Figure size 432x288 with 1 Axes>"
      ]
     },
     "metadata": {
      "needs_background": "light"
     },
     "output_type": "display_data"
    }
   ],
   "source": [
    "n = 50;\n",
    "\n",
    "# データ生成\n",
    "noise = 0.05*np.random.rand(n);\n",
    "x = np.linspace(-3, 3, n);\n",
    "y = np.sin(np.pi*x)/(np.pi*x)+0.1*x+noise;\n",
    "\n",
    "# 最小二乗学習\n",
    "m = 31; # パラメータ数\n",
    "phi = np.zeros([n, m]);\n",
    "phi[:,0] = np.ones([1,n]);\n",
    "\n",
    "for i in range(int((m-1)/2)):\n",
    "    phi[:, 2*i+1] = np.sin(0.5*i*x);\n",
    "    phi[:, 2*i+2] = np.cos(0.5*i*x);\n",
    "\n",
    "phi_inv = np.linalg.pinv(phi);\n",
    "theta = phi_inv.dot(y);\n",
    "y_hat = phi.dot(theta);\n",
    "\n",
    "# 結果のプロット\n",
    "plt.plot(x,y_hat, 'g-',label=\"Least Squares\");\n",
    "plt.plot(x,y, 'bo',label=\"Sample Data\");\n",
    "plt.xlabel('X');\n",
    "plt.ylabel('Y');\n",
    "plt.legend();"
   ]
  }
 ],
 "metadata": {
  "kernelspec": {
   "display_name": "Python 3",
   "language": "python",
   "name": "python3"
  },
  "language_info": {
   "codemirror_mode": {
    "name": "ipython",
    "version": 3
   },
   "file_extension": ".py",
   "mimetype": "text/x-python",
   "name": "python",
   "nbconvert_exporter": "python",
   "pygments_lexer": "ipython3",
   "version": "3.8.6"
  }
 },
 "nbformat": 4,
 "nbformat_minor": 4
}
